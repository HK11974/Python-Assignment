{
 "cells": [
  {
   "cell_type": "code",
   "execution_count": 7,
   "id": "9bb7b32d",
   "metadata": {},
   "outputs": [
    {
     "name": "stdout",
     "output_type": "stream",
     "text": [
      "Hello sir\n",
      "Python Assignment\n"
     ]
    }
   ],
   "source": [
    "print(\"Hello sir\")\n",
    "print(\"Python Assignment\")"
   ]
  },
  {
   "cell_type": "code",
   "execution_count": null,
   "id": "8b7be082",
   "metadata": {},
   "outputs": [],
   "source": [
    "    "
   ]
  },
  {
   "cell_type": "raw",
   "id": "f4da3164",
   "metadata": {},
   "source": []
  },
  {
   "cell_type": "code",
   "execution_count": null,
   "id": "e93af97c",
   "metadata": {},
   "outputs": [],
   "source": [
    "  "
   ]
  },
  {
   "cell_type": "code",
   "execution_count": 1,
   "id": "ab73582a",
   "metadata": {},
   "outputs": [
    {
     "name": "stdout",
     "output_type": "stream",
     "text": [
      "Enter the name of Pizza corner :abc corner\n",
      "1. veg \u0002. non veg : veg\n",
      "Enter the option:veg\n",
      "1. Thin crust \u0002. Pan crust : Thin crust\n",
      "Enter the option:Thin crust\n",
      "Enter the option :Farm House\n",
      "Enter the amount : 250\n",
      "Enter the Option :Deluxe Veggi\n",
      "Enter the amount: 300\n",
      "1. Thin Crust \u0002. Pan Crust : Pan crust\n",
      "Enter the option:Pan crust\n",
      "Enter the option :Farm House\n",
      "Enter the amount : 300\n",
      "Enter the Option :Deluxe Veggi\n",
      "Enter the amount: 350\n",
      "1. veg \u0002. non veg : non veg\n",
      "Enter the Option:Non veg\n",
      "1. Thin crust \u0002. Pan crust : Thin crust\n",
      "Enter the option:Thin crust\n",
      "Enter the Option :Chicken Supreme\n",
      "Enter the amount : 400\n",
      "Enter the Option :Chicken Sauces\n",
      "Enter the amount : 450\n",
      "1. Thin Crust \u0002. Pan Crust : Pan crust\n",
      "Enter the option :Chicken Supreme\n",
      "Enter the amount : 450\n",
      "Enter the Option :Deluxe Veggi\n",
      "Enter the amount: 475\n"
     ]
    }
   ],
   "source": [
    "a=input(\"Enter the name of Pizza corner :\" )\n",
    "if a == \"ABC Corner\" :\n",
    "    print(\"Enter the type of pizza : \")\n",
    "b=input(\"1. veg \\2. non veg : \")\n",
    "if b==\"veg\":\n",
    "     print(\"Enter the option:\" 'veg')\n",
    "c=input(\"1. Thin crust \\2. Pan crust : \")\n",
    "print(\"Enter the option:\" 'Thin crust')\n",
    "if c==\"Thin crust\":\n",
    "    print(\"Enter the option :\" 'Farm House')\n",
    "    print(\"Enter the amount :\", 250)\n",
    "    print(\"Enter the Option :\" 'Deluxe Veggi')\n",
    "    print(\"Enter the amount:\", 300)\n",
    "d= input(\"1. Thin Crust \\2. Pan Crust : \")\n",
    "print(\"Enter the option:\" 'Pan crust')\n",
    "if d==\"Pan crust\":\n",
    "    print(\"Enter the option :\" 'Farm House')\n",
    "    print(\"Enter the amount :\", 300)\n",
    "    print(\"Enter the Option :\" 'Deluxe Veggi')\n",
    " c   print(\"Enter the amount:\", 350)\n",
    "b=input(\"1. veg \\2. non veg : \")\n",
    "if b==\"non veg\":\n",
    "     print(\"Enter the Option:\" 'Non veg')\n",
    "c=input(\"1. Thin crust \\2. Pan crust : \")\n",
    "print(\"Enter the option:\" 'Thin crust')\n",
    "if c==\"Thin crust\":\n",
    "    print(\"Enter the Option :\" 'Chicken Supreme')\n",
    "    print(\"Enter the amount :\", 400)\n",
    "    print(\"Enter the Option :\" 'Chicken Sauces')\n",
    "    print(\"Enter the amount :\", 450)\n",
    "d= input(\"1. Thin Crust \\2. Pan Crust : \")\n",
    "if d==\"Pan crust\":\n",
    "    print(\"Enter the option :\" 'Chicken Supreme')\n",
    "    print(\"Enter the amount :\", 450)\n",
    "    print(\"Enter the Option :\" 'Deluxe Veggi')\n",
    "    print(\"Enter the amount:\", 475)\n",
    "    \n",
    "\n"
   ]
  },
  {
   "cell_type": "code",
   "execution_count": null,
   "id": "c76e4480",
   "metadata": {},
   "outputs": [],
   "source": []
  },
  {
   "cell_type": "code",
   "execution_count": 3,
   "id": "6408bc2b",
   "metadata": {},
   "outputs": [
    {
     "name": "stdout",
     "output_type": "stream",
     "text": [
      "Hello\n"
     ]
    }
   ],
   "source": []
  },
  {
   "cell_type": "code",
   "execution_count": null,
   "id": "f689664d",
   "metadata": {},
   "outputs": [],
   "source": []
  },
  {
   "cell_type": "code",
   "execution_count": null,
   "id": "9e0e779c",
   "metadata": {},
   "outputs": [],
   "source": [
    "\n"
   ]
  }
 ],
 "metadata": {
  "kernelspec": {
   "display_name": "Python 3 (ipykernel)",
   "language": "python",
   "name": "python3"
  },
  "language_info": {
   "codemirror_mode": {
    "name": "ipython",
    "version": 3
   },
   "file_extension": ".py",
   "mimetype": "text/x-python",
   "name": "python",
   "nbconvert_exporter": "python",
   "pygments_lexer": "ipython3",
   "version": "3.9.13"
  }
 },
 "nbformat": 4,
 "nbformat_minor": 5
}
